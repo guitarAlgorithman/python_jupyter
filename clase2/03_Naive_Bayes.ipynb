{
 "cells": [
  {
   "cell_type": "markdown",
   "metadata": {
    "id": "FBFWv2SdLKtW"
   },
   "source": [
    "# Naive Bayes (Dataset de flores Iris)\n",
    "\n",
    "Pasos\n",
    "-----\n",
    "1. Separar por Clases\n",
    "2. Resumir el Dataset\n",
    "3. Resumir Datos por Clases\n",
    "4. Función de densidad de probabilidad Gaussiana\n",
    "5. Probabilidades por Clase"
   ]
  },
  {
   "cell_type": "code",
   "execution_count": 1,
   "metadata": {
    "id": "ekhB8O8iNxrl"
   },
   "outputs": [],
   "source": [
    "import pandas as pd\n",
    "import numpy as np\n",
    "import matplotlib.pyplot as plt\n",
    "import seaborn as sns\n",
    "from sklearn.datasets import load_iris\n",
    "from sklearn.model_selection import train_test_split , KFold\n",
    "from sklearn.preprocessing import Normalizer\n",
    "from sklearn.metrics import accuracy_score\n",
    "from sklearn.naive_bayes import GaussianNB\n",
    "from sklearn import metrics"
   ]
  },
  {
   "cell_type": "code",
   "execution_count": 2,
   "metadata": {
    "id": "4tDG_AYSNp12"
   },
   "outputs": [],
   "source": [
    "iris = load_iris()\n",
    "x = iris.data\n",
    "y = iris.target"
   ]
  },
  {
   "cell_type": "code",
   "execution_count": 4,
   "metadata": {},
   "outputs": [],
   "source": [
    "# split the data into train and test sets\n",
    "x_train, x_test, y_train, y_test= train_test_split(x, y,\n",
    "                                                   test_size= 0.2,\n",
    "                                                   shuffle= True, #shuffle the data to avoid bias\n",
    "                                                   random_state= 42)"
   ]
  },
  {
   "cell_type": "code",
   "execution_count": 5,
   "metadata": {
    "colab": {
     "base_uri": "https://localhost:8080/"
    },
    "executionInfo": {
     "elapsed": 494,
     "status": "ok",
     "timestamp": 1665092085430,
     "user": {
      "displayName": "Takeshi Asahi K.",
      "userId": "02426023394088400909"
     },
     "user_tz": 180
    },
    "id": "RTk-yPvYc8xP",
    "outputId": "c481ec9e-7978-4c83-db31-e93e278ad698"
   },
   "outputs": [
    {
     "name": "stdout",
     "output_type": "stream",
     "text": [
      "GaussianNB()\n"
     ]
    }
   ],
   "source": [
    "# fit a Naive Bayes model to the data\n",
    "model = GaussianNB()\n",
    "model.fit(x_train, y_train)\n",
    "print(model)"
   ]
  },
  {
   "cell_type": "code",
   "execution_count": 7,
   "metadata": {
    "colab": {
     "base_uri": "https://localhost:8080/"
    },
    "executionInfo": {
     "elapsed": 259,
     "status": "ok",
     "timestamp": 1665092135688,
     "user": {
      "displayName": "Takeshi Asahi K.",
      "userId": "02426023394088400909"
     },
     "user_tz": 180
    },
    "id": "vn3xj1XKddgH",
    "outputId": "cb57c9d8-df20-4889-8941-ca20ae4d5536"
   },
   "outputs": [
    {
     "name": "stdout",
     "output_type": "stream",
     "text": [
      "The accuracy of sklearn implementation is 1.0\n"
     ]
    }
   ],
   "source": [
    "# make predictions\n",
    "y_pred = model.predict(x_test)\n",
    "print(f'The accuracy of sklearn implementation is {accuracy_score(y_test, y_pred)}')"
   ]
  }
 ],
 "metadata": {
  "colab": {
   "provenance": []
  },
  "kernelspec": {
   "display_name": "Python 3 (ipykernel)",
   "language": "python",
   "name": "python3"
  },
  "language_info": {
   "codemirror_mode": {
    "name": "ipython",
    "version": 3
   },
   "file_extension": ".py",
   "mimetype": "text/x-python",
   "name": "python",
   "nbconvert_exporter": "python",
   "pygments_lexer": "ipython3",
   "version": "3.10.6"
  }
 },
 "nbformat": 4,
 "nbformat_minor": 4
}
